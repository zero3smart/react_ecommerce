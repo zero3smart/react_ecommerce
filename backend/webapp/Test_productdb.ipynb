{
 "cells": [
  {
   "cell_type": "code",
   "execution_count": 87,
   "metadata": {},
   "outputs": [],
   "source": [
    "# Put these at the top of every notebook, to get automatic reloading and inline plotting\n",
    "%reload_ext autoreload\n",
    "%autoreload 2\n",
    "%matplotlib inline"
   ]
  },
  {
   "cell_type": "code",
   "execution_count": 88,
   "metadata": {},
   "outputs": [],
   "source": [
    "from pathlib import Path\n",
    "import pickle \n",
    "import pandas as pd\n",
    "import PIL\n",
    "import numpy as np"
   ]
  },
  {
   "cell_type": "code",
   "execution_count": 89,
   "metadata": {},
   "outputs": [],
   "source": [
    "from productdb import *"
   ]
  },
  {
   "cell_type": "code",
   "execution_count": 90,
   "metadata": {},
   "outputs": [
    {
     "name": "stdout",
     "output_type": "stream",
     "text": [
      "Loading product info\n",
      "Dropped 437 maternity products out of 14694\n"
     ]
    }
   ],
   "source": [
    "db = ProductDb()"
   ]
  },
  {
   "cell_type": "code",
   "execution_count": 91,
   "metadata": {},
   "outputs": [
    {
     "data": {
      "text/html": [
       "<div>\n",
       "<style>\n",
       "    .dataframe thead tr:only-child th {\n",
       "        text-align: right;\n",
       "    }\n",
       "\n",
       "    .dataframe thead th {\n",
       "        text-align: left;\n",
       "    }\n",
       "\n",
       "    .dataframe tbody tr th {\n",
       "        vertical-align: top;\n",
       "    }\n",
       "</style>\n",
       "<table border=\"1\" class=\"dataframe\">\n",
       "  <thead>\n",
       "    <tr style=\"text-align: right;\">\n",
       "      <th></th>\n",
       "      <th>Brand</th>\n",
       "      <th>Description</th>\n",
       "      <th>Features</th>\n",
       "      <th>Name</th>\n",
       "      <th>ProductPageUrl</th>\n",
       "      <th>Title</th>\n",
       "    </tr>\n",
       "    <tr>\n",
       "      <th>ProductId</th>\n",
       "      <th></th>\n",
       "      <th></th>\n",
       "      <th></th>\n",
       "      <th></th>\n",
       "      <th></th>\n",
       "      <th></th>\n",
       "    </tr>\n",
       "  </thead>\n",
       "  <tbody>\n",
       "    <tr>\n",
       "      <th>4828646</th>\n",
       "      <td>NIC AND ZOE</td>\n",
       "      <td>&lt;p&gt;With new color choices, a favorite scoop-ne...</td>\n",
       "      <td>[24\" regular length (size Medium); 22 1/2\" pet...</td>\n",
       "      <td>'Perfect' Tank</td>\n",
       "      <td>https://shop.nordstrom.com/s/niczoe-perfect-ta...</td>\n",
       "      <td>NIC+ZOE 'Perfect' Tank (Regular &amp; Petite)</td>\n",
       "    </tr>\n",
       "    <tr>\n",
       "      <th>4716642</th>\n",
       "      <td>KAREN KANE</td>\n",
       "      <td>&lt;p&gt;Cozy plaid flannel gets a feminine upgrade ...</td>\n",
       "      <td>[31\" length (size 2X), V-neck button henley pl...</td>\n",
       "      <td>Plaid Fringe Top</td>\n",
       "      <td>https://shop.nordstrom.com/s/karen-kane-plaid-...</td>\n",
       "      <td>Karen Kane Plaid Fringe Top (Plus Size)</td>\n",
       "    </tr>\n",
       "  </tbody>\n",
       "</table>\n",
       "</div>"
      ],
      "text/plain": [
       "                 Brand                                        Description  \\\n",
       "ProductId                                                                   \n",
       "4828646    NIC AND ZOE  <p>With new color choices, a favorite scoop-ne...   \n",
       "4716642     KAREN KANE  <p>Cozy plaid flannel gets a feminine upgrade ...   \n",
       "\n",
       "                                                    Features  \\\n",
       "ProductId                                                      \n",
       "4828646    [24\" regular length (size Medium); 22 1/2\" pet...   \n",
       "4716642    [31\" length (size 2X), V-neck button henley pl...   \n",
       "\n",
       "                       Name  \\\n",
       "ProductId                     \n",
       "4828646      'Perfect' Tank   \n",
       "4716642    Plaid Fringe Top   \n",
       "\n",
       "                                              ProductPageUrl  \\\n",
       "ProductId                                                      \n",
       "4828646    https://shop.nordstrom.com/s/niczoe-perfect-ta...   \n",
       "4716642    https://shop.nordstrom.com/s/karen-kane-plaid-...   \n",
       "\n",
       "                                               Title  \n",
       "ProductId                                             \n",
       "4828646    NIC+ZOE 'Perfect' Tank (Regular & Petite)  \n",
       "4716642      Karen Kane Plaid Fringe Top (Plus Size)  "
      ]
     },
     "metadata": {},
     "output_type": "display_data"
    },
    {
     "data": {
      "text/html": [
       "<div>\n",
       "<style>\n",
       "    .dataframe thead tr:only-child th {\n",
       "        text-align: right;\n",
       "    }\n",
       "\n",
       "    .dataframe thead th {\n",
       "        text-align: left;\n",
       "    }\n",
       "\n",
       "    .dataframe tbody tr th {\n",
       "        vertical-align: top;\n",
       "    }\n",
       "</style>\n",
       "<table border=\"1\" class=\"dataframe\">\n",
       "  <thead>\n",
       "    <tr style=\"text-align: right;\">\n",
       "      <th></th>\n",
       "      <th></th>\n",
       "      <th>ColorName</th>\n",
       "      <th>Path</th>\n",
       "      <th>FrontImg</th>\n",
       "    </tr>\n",
       "    <tr>\n",
       "      <th>ProductId</th>\n",
       "      <th>ColorId</th>\n",
       "      <th></th>\n",
       "      <th></th>\n",
       "      <th></th>\n",
       "    </tr>\n",
       "  </thead>\n",
       "  <tbody>\n",
       "    <tr>\n",
       "      <th>4828646</th>\n",
       "      <th>667610</th>\n",
       "      <td>Tamarind</td>\n",
       "      <td>product_imgs/4828646</td>\n",
       "      <td>667610_0.jpg</td>\n",
       "    </tr>\n",
       "    <tr>\n",
       "      <th>4716642</th>\n",
       "      <th>683969</th>\n",
       "      <td>NA</td>\n",
       "      <td>product_imgs/4716642</td>\n",
       "      <td>683969_0.jpg</td>\n",
       "    </tr>\n",
       "  </tbody>\n",
       "</table>\n",
       "</div>"
      ],
      "text/plain": [
       "                  ColorName                  Path      FrontImg\n",
       "ProductId ColorId                                              \n",
       "4828646   667610   Tamarind  product_imgs/4828646  667610_0.jpg\n",
       "4716642   683969         NA  product_imgs/4716642  683969_0.jpg"
      ]
     },
     "metadata": {},
     "output_type": "display_data"
    },
    {
     "data": {
      "text/html": [
       "<div>\n",
       "<style>\n",
       "    .dataframe thead tr:only-child th {\n",
       "        text-align: right;\n",
       "    }\n",
       "\n",
       "    .dataframe thead th {\n",
       "        text-align: left;\n",
       "    }\n",
       "\n",
       "    .dataframe tbody tr th {\n",
       "        vertical-align: top;\n",
       "    }\n",
       "</style>\n",
       "<table border=\"1\" class=\"dataframe\">\n",
       "  <thead>\n",
       "    <tr style=\"text-align: right;\">\n",
       "      <th></th>\n",
       "      <th>collar</th>\n",
       "      <th>belly</th>\n",
       "      <th>sleeve_tightness</th>\n",
       "      <th>shoulder</th>\n",
       "      <th>top_length</th>\n",
       "      <th>neckline</th>\n",
       "      <th>sleeve_length</th>\n",
       "      <th>chest</th>\n",
       "      <th>waist</th>\n",
       "    </tr>\n",
       "    <tr>\n",
       "      <th>ProductId</th>\n",
       "      <th></th>\n",
       "      <th></th>\n",
       "      <th></th>\n",
       "      <th></th>\n",
       "      <th></th>\n",
       "      <th></th>\n",
       "      <th></th>\n",
       "      <th></th>\n",
       "      <th></th>\n",
       "    </tr>\n",
       "  </thead>\n",
       "  <tbody>\n",
       "    <tr>\n",
       "      <th>4940507</th>\n",
       "      <td>0.024709</td>\n",
       "      <td>5.089723</td>\n",
       "      <td>2.134986</td>\n",
       "      <td>4.000181</td>\n",
       "      <td>3.557701</td>\n",
       "      <td>2.994832</td>\n",
       "      <td>2.680713</td>\n",
       "      <td>3.932161</td>\n",
       "      <td>4.741385</td>\n",
       "    </tr>\n",
       "    <tr>\n",
       "      <th>4940840</th>\n",
       "      <td>0.019620</td>\n",
       "      <td>3.352069</td>\n",
       "      <td>0.517053</td>\n",
       "      <td>2.907205</td>\n",
       "      <td>3.111830</td>\n",
       "      <td>3.437733</td>\n",
       "      <td>1.586847</td>\n",
       "      <td>2.310706</td>\n",
       "      <td>3.161348</td>\n",
       "    </tr>\n",
       "  </tbody>\n",
       "</table>\n",
       "</div>"
      ],
      "text/plain": [
       "             collar     belly  sleeve_tightness  shoulder  top_length  \\\n",
       "ProductId                                                               \n",
       "4940507    0.024709  5.089723          2.134986  4.000181    3.557701   \n",
       "4940840    0.019620  3.352069          0.517053  2.907205    3.111830   \n",
       "\n",
       "           neckline  sleeve_length     chest     waist  \n",
       "ProductId                                               \n",
       "4940507    2.994832       2.680713  3.932161  4.741385  \n",
       "4940840    3.437733       1.586847  2.310706  3.161348  "
      ]
     },
     "metadata": {},
     "output_type": "display_data"
    },
    {
     "data": {
      "text/html": [
       "<div>\n",
       "<style>\n",
       "    .dataframe thead tr:only-child th {\n",
       "        text-align: right;\n",
       "    }\n",
       "\n",
       "    .dataframe thead th {\n",
       "        text-align: left;\n",
       "    }\n",
       "\n",
       "    .dataframe tbody tr th {\n",
       "        vertical-align: top;\n",
       "    }\n",
       "</style>\n",
       "<table border=\"1\" class=\"dataframe\">\n",
       "  <thead>\n",
       "    <tr style=\"text-align: right;\">\n",
       "      <th></th>\n",
       "      <th></th>\n",
       "      <th>solid</th>\n",
       "      <th>checker</th>\n",
       "      <th>stripe</th>\n",
       "      <th>pattern</th>\n",
       "    </tr>\n",
       "    <tr>\n",
       "      <th>ProductId</th>\n",
       "      <th>ColorId</th>\n",
       "      <th></th>\n",
       "      <th></th>\n",
       "      <th></th>\n",
       "      <th></th>\n",
       "    </tr>\n",
       "  </thead>\n",
       "  <tbody>\n",
       "    <tr>\n",
       "      <th>4828646</th>\n",
       "      <th>667610</th>\n",
       "      <td>1</td>\n",
       "      <td>0</td>\n",
       "      <td>0</td>\n",
       "      <td>0</td>\n",
       "    </tr>\n",
       "    <tr>\n",
       "      <th>4716642</th>\n",
       "      <th>683969</th>\n",
       "      <td>0.0302877</td>\n",
       "      <td>0.994844</td>\n",
       "      <td>0.0178017</td>\n",
       "      <td>0.0512868</td>\n",
       "    </tr>\n",
       "  </tbody>\n",
       "</table>\n",
       "</div>"
      ],
      "text/plain": [
       "                       solid   checker     stripe    pattern\n",
       "ProductId ColorId                                           \n",
       "4828646   667610           1         0          0          0\n",
       "4716642   683969   0.0302877  0.994844  0.0178017  0.0512868"
      ]
     },
     "metadata": {},
     "output_type": "display_data"
    }
   ],
   "source": [
    "display(db.prd_df.tail(2))\n",
    "display(db.prd_col_df.tail(2))\n",
    "display(db.prd_pred_df.tail(2))\n",
    "display(db.prd_col_pred_df.tail(2))"
   ]
  },
  {
   "cell_type": "code",
   "execution_count": 92,
   "metadata": {},
   "outputs": [
    {
     "data": {
      "text/html": [
       "<div>\n",
       "<style>\n",
       "    .dataframe thead tr:only-child th {\n",
       "        text-align: right;\n",
       "    }\n",
       "\n",
       "    .dataframe thead th {\n",
       "        text-align: left;\n",
       "    }\n",
       "\n",
       "    .dataframe tbody tr th {\n",
       "        vertical-align: top;\n",
       "    }\n",
       "</style>\n",
       "<table border=\"1\" class=\"dataframe\">\n",
       "  <thead>\n",
       "    <tr style=\"text-align: right;\">\n",
       "      <th></th>\n",
       "      <th></th>\n",
       "      <th>ColorName</th>\n",
       "      <th>Path</th>\n",
       "      <th>FrontImg</th>\n",
       "    </tr>\n",
       "    <tr>\n",
       "      <th>ProductId</th>\n",
       "      <th>ColorId</th>\n",
       "      <th></th>\n",
       "      <th></th>\n",
       "      <th></th>\n",
       "    </tr>\n",
       "  </thead>\n",
       "  <tbody>\n",
       "    <tr>\n",
       "      <th>4337112</th>\n",
       "      <th>0</th>\n",
       "      <td>GREEN_WHITE</td>\n",
       "      <td>imgs/4337112/GREEN_WHITE</td>\n",
       "      <td>_12435243.jpg</td>\n",
       "    </tr>\n",
       "    <tr>\n",
       "      <th>4731853</th>\n",
       "      <th>0</th>\n",
       "      <td>BLACK</td>\n",
       "      <td>imgs/4731853/BLACK</td>\n",
       "      <td>_101449414.jpg</td>\n",
       "    </tr>\n",
       "    <tr>\n",
       "      <th>4720458</th>\n",
       "      <th>122221</th>\n",
       "      <td>NA</td>\n",
       "      <td>product_imgs/4720458</td>\n",
       "      <td>122221_0.jpg</td>\n",
       "    </tr>\n",
       "    <tr>\n",
       "      <th>4555385</th>\n",
       "      <th>0</th>\n",
       "      <td>BLACK</td>\n",
       "      <td>imgs/4555385/BLACK</td>\n",
       "      <td>_100467960.jpg</td>\n",
       "    </tr>\n",
       "    <tr>\n",
       "      <th>4625373</th>\n",
       "      <th>0</th>\n",
       "      <td>MARBLE</td>\n",
       "      <td>imgs/4625373/MARBLE</td>\n",
       "      <td>_100577437.jpg</td>\n",
       "    </tr>\n",
       "    <tr>\n",
       "      <th>4852886</th>\n",
       "      <th>725559</th>\n",
       "      <td>Swell</td>\n",
       "      <td>product_imgs/4852886</td>\n",
       "      <td>725559_0.jpg</td>\n",
       "    </tr>\n",
       "    <tr>\n",
       "      <th>4826228</th>\n",
       "      <th>0</th>\n",
       "      <td>PALEST PURPLE_BLACK</td>\n",
       "      <td>imgs/4826228/PALEST PURPLE_BLACK</td>\n",
       "      <td>1_101742142.jpg</td>\n",
       "    </tr>\n",
       "    <tr>\n",
       "      <th>4733251</th>\n",
       "      <th>83190</th>\n",
       "      <td>Loden</td>\n",
       "      <td>product_imgs/4733251</td>\n",
       "      <td>83190_0.jpg</td>\n",
       "    </tr>\n",
       "    <tr>\n",
       "      <th>3933201</th>\n",
       "      <th>91176</th>\n",
       "      <td>Black Onyx</td>\n",
       "      <td>product_imgs/3933201</td>\n",
       "      <td>91176_0.jpg</td>\n",
       "    </tr>\n",
       "    <tr>\n",
       "      <th>4808640</th>\n",
       "      <th>712857</th>\n",
       "      <td>Jardin Print</td>\n",
       "      <td>product_imgs/4808640</td>\n",
       "      <td>712857_0.jpg</td>\n",
       "    </tr>\n",
       "  </tbody>\n",
       "</table>\n",
       "</div>"
      ],
      "text/plain": [
       "                             ColorName                              Path  \\\n",
       "ProductId ColorId                                                          \n",
       "4337112   0                GREEN_WHITE          imgs/4337112/GREEN_WHITE   \n",
       "4731853   0                      BLACK                imgs/4731853/BLACK   \n",
       "4720458   122221                    NA              product_imgs/4720458   \n",
       "4555385   0                      BLACK                imgs/4555385/BLACK   \n",
       "4625373   0                     MARBLE               imgs/4625373/MARBLE   \n",
       "4852886   725559                 Swell              product_imgs/4852886   \n",
       "4826228   0        PALEST PURPLE_BLACK  imgs/4826228/PALEST PURPLE_BLACK   \n",
       "4733251   83190                  Loden              product_imgs/4733251   \n",
       "3933201   91176             Black Onyx              product_imgs/3933201   \n",
       "4808640   712857          Jardin Print              product_imgs/4808640   \n",
       "\n",
       "                          FrontImg  \n",
       "ProductId ColorId                   \n",
       "4337112   0          _12435243.jpg  \n",
       "4731853   0         _101449414.jpg  \n",
       "4720458   122221      122221_0.jpg  \n",
       "4555385   0         _100467960.jpg  \n",
       "4625373   0         _100577437.jpg  \n",
       "4852886   725559      725559_0.jpg  \n",
       "4826228   0        1_101742142.jpg  \n",
       "4733251   83190        83190_0.jpg  \n",
       "3933201   91176        91176_0.jpg  \n",
       "4808640   712857      712857_0.jpg  "
      ]
     },
     "execution_count": 92,
     "metadata": {},
     "output_type": "execute_result"
    }
   ],
   "source": [
    "db.prd_col_df.sample(10)"
   ]
  },
  {
   "cell_type": "code",
   "execution_count": 93,
   "metadata": {},
   "outputs": [
    {
     "data": {
      "text/plain": [
       "4679804_163173,Lace-Up Top,product_imgs/4679804/163173_0.jpg,OrderedDict([('collar', 0.00692462424437205), ('belly', 5.147154172261556), ('sleeve_tightness', 3.0148281256357827), ('shoulder', 4.904540538787842), ('top_length', 1.9329070647557576), ('neckline', 2.6876068909962973), ('sleeve_length', 6.12032683690389), ('chest', 3.9586784839630127), ('waist', 4.50720230738322), ('solid', 0.0), ('checker', 0.0), ('stripe', 0.0), ('pattern', 1.0)])"
      ]
     },
     "execution_count": 93,
     "metadata": {},
     "output_type": "execute_result"
    }
   ],
   "source": [
    "db.get_product_by_pcid('4679804_163173')"
   ]
  },
  {
   "cell_type": "code",
   "execution_count": 94,
   "metadata": {},
   "outputs": [
    {
     "name": "stdout",
     "output_type": "stream",
     "text": [
      "Loading product info\n",
      "Dropped 437 maternity products out of 14694\n",
      "Reqeusted filter: {'waist': (0, 2), 'sleeve_tightness': (1, 2)}\n",
      "pcids_sorted() took 0ms\n"
     ]
    }
   ],
   "source": [
    "db = ProductDb()\n",
    "pf = {'waist': (0,2), 'sleeve_tightness': (1,2)}\n",
    "pcids, fit_dist = db.pcids_sorted(pf)"
   ]
  },
  {
   "cell_type": "code",
   "execution_count": null,
   "metadata": {},
   "outputs": [],
   "source": []
  },
  {
   "cell_type": "code",
   "execution_count": 95,
   "metadata": {},
   "outputs": [
    {
     "name": "stdout",
     "output_type": "stream",
     "text": [
      "19551 ['4755807_2', '4782008_0', '4109996_91129', '4528062_411475', '4109996_19725'] [0.0, 0.0, 0.0, 0.0, 0.0]\n",
      "[nan, nan, nan, nan, nan] [nan, nan, nan, nan, nan]\n"
     ]
    }
   ],
   "source": [
    "print(len(pcids), pcids[:5], fit_dist[:5])\n",
    "print(pcids[-5:], fit_dist[-5:])"
   ]
  },
  {
   "cell_type": "code",
   "execution_count": 101,
   "metadata": {},
   "outputs": [
    {
     "name": "stdout",
     "output_type": "stream",
     "text": [
      "Reqeusted filter: {'waist': (0, 2), 'sleeve_tightness': (1, 2), 'solid': 0}\n",
      "pcids_sorted() took 0ms\n",
      "['4758622_651499', '4612497_8034', '4795335_709159', '4853443_725751', '4758827_502684'] [0.0, 0.0, 0.0, 0.009944995244344076, 0.02981134255727132]\n",
      "['4657777_94849', '4657777_666659', '4657777_666657', '4704474_19178', '4749869_136885'] [2.1666666666666665, 2.1666666666666665, 2.1666666666666665, 2.1666666666666665, 2.1666666666666665]\n"
     ]
    }
   ],
   "source": [
    "pf = {'waist': (0,2), 'sleeve_tightness': (1,2), 'solid': 0}\n",
    "pcids, fit_dist = db.pcids_sorted(pf)\n",
    "print(pcids[:5], fit_dist[:5])\n",
    "print(pcids[-5:], fit_dist[-5:])"
   ]
  },
  {
   "cell_type": "code",
   "execution_count": 105,
   "metadata": {},
   "outputs": [
    {
     "name": "stdout",
     "output_type": "stream",
     "text": [
      "Reqeusted filter: {'waist': (0, 2), 'sleeve_tightness': (1, 2), 'solid': 1, 'selected_product_id': '4657777_94849'}\n",
      "pcids_sorted() took 0ms\n",
      "['4660220_0', '4722742_0', '4722742_1', '4592670_0', '4757006_0'] [0.571084796388944, 0.5921673078832794, 0.5980009932813812, 0.5997614870468776, 0.6046450683048794]\n",
      "['4762170_0', '4706555_0', '4561642_0', '4447455_1', '4447455_0'] [3.081322612223171, 3.094974473757403, 3.0998530125334147, 3.253004256032762, 3.465848102562484]\n"
     ]
    }
   ],
   "source": [
    "pf = {'waist': (0,2), 'sleeve_tightness': (1,2), 'solid': 1, 'selected_product_id':'4657777_94849'}\n",
    "pcids, fit_dist = db.pcids_sorted(pf)\n",
    "print(pcids[:5], fit_dist[:5])\n",
    "print(pcids[-5:], fit_dist[-5:])"
   ]
  },
  {
   "cell_type": "code",
   "execution_count": 84,
   "metadata": {},
   "outputs": [
    {
     "name": "stdout",
     "output_type": "stream",
     "text": [
      "PCID 4678977_0 not found\n"
     ]
    },
    {
     "data": {
      "text/plain": [
       "Int64Index([4678977, 4489933, 4678965, 4670002, 4666692, 4676963, 4745159,\n",
       "            4805617, 4704146, 4768537,\n",
       "            ...\n",
       "            4521027, 4640915, 4640816, 4858434, 4828673, 4845112, 4716651,\n",
       "            4621324, 4828646, 4716642],\n",
       "           dtype='int64', name='ProductId', length=14257)"
      ]
     },
     "execution_count": 84,
     "metadata": {},
     "output_type": "execute_result"
    }
   ],
   "source": [
    "db.get_product_by_pcid('4678977_0')\n",
    "db.prd_df.index"
   ]
  },
  {
   "cell_type": "code",
   "execution_count": 96,
   "metadata": {},
   "outputs": [
    {
     "data": {
      "text/plain": [
       "(Brand                                             TREASURE AND BOND\n",
       " Description                                                     NaN\n",
       " Features                                                        NaN\n",
       " Name                   Treasure & Bond x Something Navy Satin Tunic\n",
       " ProductPageUrl    https://shop.nordstrom.com/s/treasure-bond-x-s...\n",
       " Title                  Treasure & Bond x Something Navy Satin Tunic\n",
       " Name: 4678977, dtype: object, collar              1.000000\n",
       " belly               4.205787\n",
       " sleeve_tightness    2.879151\n",
       " shoulder            5.000000\n",
       " top_length          1.000000\n",
       " neckline            4.648311\n",
       " sleeve_length       7.000000\n",
       " chest               3.724332\n",
       " waist               4.000000\n",
       " Name: 4678977, dtype: float64)"
      ]
     },
     "execution_count": 96,
     "metadata": {},
     "output_type": "execute_result"
    }
   ],
   "source": [
    "db.prd_df.loc['4678977'], db.prd_pred_df.loc['4678977']\n",
    "# display(db.prd_col_df.tail(2))\n",
    "# display(db.prd_pred_df.tail(2))\n",
    "# display(db.prd_col_pred_df.tail(2))\n"
   ]
  },
  {
   "cell_type": "code",
   "execution_count": 86,
   "metadata": {},
   "outputs": [
    {
     "name": "stdout",
     "output_type": "stream",
     "text": [
      "Reqeusted filter: {'selected_product_id': '4821346_0'}\n",
      "PCID 4821346_0 not found\n",
      "pcids_sorted() took 0ms\n",
      "['4678977_0', '4807549_389532', '4807549_163173', '4808376_650607', '4810579_163187'] [0.0, 0.0, 0.0, 0.0, 0.0]\n",
      "[nan, nan, nan, nan, nan] [nan, nan, nan, nan, nan]\n"
     ]
    }
   ],
   "source": [
    "pf = {'selected_product_id':'4821346_0'}\n",
    "pcids, fit_dist = db.pcids_sorted(pf)\n",
    "print(pcids[:5], fit_dist[:5])\n",
    "print(pcids[-5:], fit_dist[-5:])"
   ]
  },
  {
   "cell_type": "code",
   "execution_count": null,
   "metadata": {},
   "outputs": [],
   "source": []
  }
 ],
 "metadata": {
  "kernelspec": {
   "display_name": "Python 3",
   "language": "python",
   "name": "python3"
  },
  "language_info": {
   "codemirror_mode": {
    "name": "ipython",
    "version": 3
   },
   "file_extension": ".py",
   "mimetype": "text/x-python",
   "name": "python",
   "nbconvert_exporter": "python",
   "pygments_lexer": "ipython3",
   "version": "3.6.2"
  }
 },
 "nbformat": 4,
 "nbformat_minor": 2
}
